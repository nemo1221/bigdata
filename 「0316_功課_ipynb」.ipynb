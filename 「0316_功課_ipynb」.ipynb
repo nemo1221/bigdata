{
  "nbformat": 4,
  "nbformat_minor": 0,
  "metadata": {
    "colab": {
      "name": "「0316_功課.ipynb」",
      "provenance": [],
      "collapsed_sections": [],
      "include_colab_link": true
    },
    "kernelspec": {
      "name": "ir",
      "display_name": "R"
    }
  },
  "cells": [
    {
      "cell_type": "markdown",
      "metadata": {
        "id": "view-in-github",
        "colab_type": "text"
      },
      "source": [
        "<a href=\"https://colab.research.google.com/github/nemo1221/bigdata/blob/main/%E3%80%8C0316_%E5%8A%9F%E8%AA%B2_ipynb%E3%80%8D.ipynb\" target=\"_parent\"><img src=\"https://colab.research.google.com/assets/colab-badge.svg\" alt=\"Open In Colab\"/></a>"
      ]
    },
    {
      "cell_type": "code",
      "metadata": {
        "colab": {
          "base_uri": "https://localhost:8080/",
          "height": 34
        },
        "id": "CR9BaPuSTv1X",
        "outputId": "b0663ea3-85fb-48fc-971a-3c07bb3e672e"
      },
      "source": [
        "system(\"ls\",TRUE)"
      ],
      "execution_count": 7,
      "outputs": [
        {
          "output_type": "display_data",
          "data": {
            "text/plain": [
              "[1] \"ask.csv\"     \"sample_data\""
            ],
            "text/latex": "\\begin{enumerate*}\n\\item 'ask.csv'\n\\item 'sample\\_data'\n\\end{enumerate*}\n",
            "text/markdown": "1. 'ask.csv'\n2. 'sample_data'\n\n\n",
            "text/html": [
              "<style>\n",
              ".list-inline {list-style: none; margin:0; padding: 0}\n",
              ".list-inline>li {display: inline-block}\n",
              ".list-inline>li:not(:last-child)::after {content: \"\\00b7\"; padding: 0 .5ex}\n",
              "</style>\n",
              "<ol class=list-inline><li>'ask.csv'</li><li>'sample_data'</li></ol>\n"
            ]
          },
          "metadata": {
            "tags": []
          }
        }
      ]
    },
    {
      "cell_type": "code",
      "metadata": {
        "id": "t613gMniUMRd"
      },
      "source": [
        "library(readr)"
      ],
      "execution_count": 4,
      "outputs": []
    },
    {
      "cell_type": "code",
      "metadata": {
        "id": "egoSf7fEUS4k"
      },
      "source": [
        "dataset <- read.csv(\"ask.csv\")"
      ],
      "execution_count": 9,
      "outputs": []
    },
    {
      "cell_type": "code",
      "metadata": {
        "colab": {
          "base_uri": "https://localhost:8080/",
          "height": 1000
        },
        "id": "sW529tcTUlI1",
        "outputId": "3671b83c-c4ef-43bc-cdd1-e7d2e848d4a1"
      },
      "source": [
        "dataset"
      ],
      "execution_count": 10,
      "outputs": [
        {
          "output_type": "display_data",
          "data": {
            "text/plain": [
              "   縣市代碼\n",
              "1  67      \n",
              "2  67      \n",
              "3  67      \n",
              "4  67      \n",
              "5  67      \n",
              "6  67      \n",
              "7  67      \n",
              "8  67      \n",
              "9  67      \n",
              "10 67      \n",
              "11 67      \n",
              "12 67      \n",
              "13 67      \n",
              "14 67      \n",
              "15 67      \n",
              "16 67      \n",
              "17 67      \n",
              "18 67      \n",
              "19 67      \n",
              "20 67      \n",
              "21 67      \n",
              "   店家照片                                                                 \n",
              "1  https://taiwan-askme.tw/upload/userfiles/shop/fm_01.JPG                  \n",
              "2  https://taiwan-askme.tw/upload/userfiles/shop/013_01.jpg                 \n",
              "3  https://taiwan-askme.tw/upload/userfiles/shop/66-03.jpg                  \n",
              "4  https://taiwan-askme.tw/upload/userfiles/shop/74-01.jpg                  \n",
              "5  https://taiwan-askme.tw/upload/userfiles/shop/128_01.jpg                 \n",
              "6  https://taiwan-askme.tw/upload/userfiles/event/155.JPG                   \n",
              "7  https://taiwan-askme.tw/upload/userfiles/shop/129_01.jpg                 \n",
              "8  https://taiwan-askme.tw/upload/userfiles/shop/203_01.jpg                 \n",
              "9  https://taiwan-askme.tw/upload/userfiles/shop/新營服務區.jpg             \n",
              "10 https://taiwan-askme.tw/upload/userfiles/shop/仁德服務區.jpg             \n",
              "11 https://taiwan-askme.tw/upload/userfiles/shop/關廟服務區.jpg             \n",
              "12 https://taiwan-askme.tw/upload/userfiles/shop/C01021_林咸旭台博館之美.jpg\n",
              "13 https://taiwan-askme.tw/upload/userfiles/shop/23801.JPG                  \n",
              "14 https://taiwan-askme.tw/upload/userfiles/shop/26902.jpg                  \n",
              "15                                                                          \n",
              "16                                                                          \n",
              "17 https://taiwan-askme.tw/upload/userfiles/shop/瑪莎園景觀餐廳.png         \n",
              "18 https://taiwan-askme.tw/upload/userfiles/大坑休閒農場.jpg                \n",
              "19 https://taiwan-askme.tw/upload/userfiles/石子瀨社區發展協會.JPG          \n",
              "20 https://taiwan-askme.tw/upload/userfiles/store/109newshop/05.png         \n",
              "21 https://taiwan-askme.tw/upload/userfiles/store/109newshop/06.png         \n",
              "   店名_中                  店名_英                                      \n",
              "1  全家便利商店-善化正國店  FamilyMart (Shanhua Zhengguo)                \n",
              "2  統一超商-善和門市        7-11 (Shanhe)                                \n",
              "3  夕遊 井仔腳瓦盤鹽田      Sio House                                    \n",
              "4  有間冰舖                 A Shaved Ice Shop                            \n",
              "5  果農之家                 the House of Fruit Farmer                    \n",
              "6  DOGA香酥脆椒             DoGa Xiang Crisp Chili                       \n",
              "7  雲萊山莊                  Lai Yun Villa                               \n",
              "8  東山服務區                Dongshan Service Area                       \n",
              "9  新營服務區               Xinying Service Area                         \n",
              "10 仁德服務區               Rende Service Area                           \n",
              "11 關廟服務區               Guanmiao Service Area                        \n",
              "12 臺灣鹽博物館             Taiwan Salt Museum                           \n",
              "13 佛都愛玉佳里成功旗艦店   Fodu Aiyu Jelly - Chengkung Flagship Shop    \n",
              "14 李子園小舖               Leeziyuan Store                              \n",
              "15 大坑休閒農場             Dakeng Leisure Farm                          \n",
              "16 石子瀨社區發展協會       Shi Zi Lai Community Development Association \n",
              "17 瑪莎園景觀餐廳                                                        \n",
              "18 大坑休閒農場                                                          \n",
              "19 石子瀨社區發展協會                                                    \n",
              "20 左鎮公?社區              Zuozhen Gongguan Community                   \n",
              "21 梅嶺食品遊客休閒中心     Main Lead Food                               \n",
              "   店名_日                  地址_中                               \n",
              "1  FamilyMart善化正?店      台南市善化區文昌里中正路160號         \n",
              "2  7-11善和店               台南巿善化區大成路319號               \n",
              "3  夕遊 井仔腳瓦盤?田       臺南市北門區永華里西南郊井仔腳復育鹽田\n",
              "4  有間冰舖                 臺南市玉井區中正路152號               \n",
              "5  果農?家                  臺南市楠西區密枝里6號                 \n",
              "6  ????唐辛子????           臺南市安平區安平路 556 號             \n",
              "7  雲萊山莊                 臺南市白河區關嶺里129號               \n",
              "8  東山????????             台南市東山區枋子林74-6號              \n",
              "9  新????????               台南市後壁區竹新里新厝72號            \n",
              "10 仁????????               台南市仁德區中洲里中洲1之16號         \n",
              "11 ?廟???????               台南市龍崎區楠坑里6鄰楠坑12之1號?     \n",
              "12 台???博物館              臺南市七股區鹽埕里69號                \n",
              "13 佛都愛玉佳里成功???????? 臺南市佳里區成功路200 號              \n",
              "14 李子園小?                臺南市東山區高原里李子園 93 號        \n",
              "15 大坑?光(休閑)農場        臺南市新化區大坑里82號                \n",
              "16 石子瀨社??展協?          臺南市大內區石城里114-66號            \n",
              "17                          台南市玉井區沙田里沙田25-66號         \n",
              "18                          台南市新化區大坑里82號                \n",
              "19                          台南市大內區石城里114-66號            \n",
              "20 左鎮公?社?               臺南市左鎮區岡林里31號                \n",
              "21 梅嶺食品?????????        臺南市楠西區香蕉山梅嶺20號            \n",
              "   地址_英                                                                         \n",
              "1  No.160, Zhongzheng Rd., Shanhua Dist., Tainan City                              \n",
              "2  No.319, Dacheng Rd., Shanhua Dist., Tainan City                                 \n",
              "3  Jingzaijiao, Yonghua Village, Beimendistrict, Tainan City (R.O.C.)              \n",
              "4  No.152, Zhongzheng Rd., Yujing Dist., Tainan City                               \n",
              "5  No.6, Mizhi, Nanxi Dist., Tainan City 715, Taiwan (R.O.C.)                      \n",
              "6  No. 556, Anping Rd., Anping Dist., Tainan City 708 Taiwan                       \n",
              "7  No.129, Guanling, Baihe Dist., Tainan City 732, Taiwan (R.O.C.)                 \n",
              "8  No.74-6, Fangzilin, Dongshan Dist., Tainan City 733, Taiwan (R.O.C.)            \n",
              "9  No. 72, Xincu, Zhuxin Village, Houbi District, Tainan City                      \n",
              "10 No. 1-16, Zhongzhou, Zhongzhou Village, Rende District, Tainan City             \n",
              "11 No. 12-1, Nankeng, Neighborhood 6, Nankeng Village, Longqi District, Tainan City\n",
              "12 No. 69, Yancheng Borough, Cigu District, Tainan City                            \n",
              "13 No. 200, Chengkung Road, Jiali District, Tainan City                            \n",
              "14 No. 93, Leeziyuan, Gaoyuan, Dongshan District, Tainan City.                     \n",
              "15 No. 82, Dakengli, Xinhua Dist., Tainan City                                     \n",
              "16 No. 114-66, Shichengli, Danei Dist., Tainan City                                \n",
              "17                                                                                 \n",
              "18                                                                                 \n",
              "19                                                                                 \n",
              "20 No. 31, Ganglinli, Zuozhen Dist., Tainan City                                   \n",
              "21 No. 20, Meiling, Xiangjiaoshan, Nanxi Dist., Tainan City                        \n",
              "   地址_日                              緯度     經度     ⋯ 啟用 是否匯入資料\n",
              "1  台南市善化?文昌里中正路160?          23.12345 120.2943 ⋯ TRUE TRUE        \n",
              "2  台南巿善化?大成路319?                23.12962 120.2982 ⋯ TRUE TRUE        \n",
              "3  台南市北門?永華里西南郊井仔腳復育?田 23.26009 120.1098 ⋯ TRUE TRUE        \n",
              "4  台南市玉井?中正路152?                23.12422 120.4614 ⋯ TRUE TRUE        \n",
              "5  臺南市楠西?密枝里6?                   0.00000   0.0000 ⋯ TRUE TRUE        \n",
              "6  708台南市安平區安平路 556 號          0.00000   0.0000 ⋯ TRUE TRUE        \n",
              "7  臺南市白河?關嶺里129?                23.31718 120.5106 ⋯ TRUE   NA        \n",
              "8  台南市東山?枋子林74-6?               23.28622 120.3983 ⋯ TRUE   NA        \n",
              "9  台南市後壁?竹新里新厝72?             23.33957 120.3127 ⋯ TRUE   NA        \n",
              "10 台南市仁??中洲里中洲1-16?            22.90644 120.2663 ⋯ TRUE   NA        \n",
              "11 台南市龍崎?楠坑里6?楠坑12之1??       22.92914 120.3526 ⋯ TRUE   NA        \n",
              "12 台南市七股??埕里69?                  23.15543 120.1055 ⋯ TRUE   NA        \n",
              "13 台南市佳里?成功路200?                23.15037 120.1734 ⋯ TRUE TRUE        \n",
              "14 台南市東山?高原里李子園93?           23.28691 120.5063 ⋯ TRUE   NA        \n",
              "15 台南市新化?大坑里82?                  0.00000   0.0000 ⋯ TRUE TRUE        \n",
              "16 台南市大??石城里114-66?               0.00000   0.0000 ⋯ TRUE TRUE        \n",
              "17                                      23.07000 120.2900 ⋯ TRUE   NA        \n",
              "18                                      23.00000 120.2300 ⋯ TRUE   NA        \n",
              "19                                      23.07000 120.2100 ⋯ TRUE   NA        \n",
              "20 台南市左鎮?岡林里31?                 23.00718 120.4124 ⋯ TRUE   NA        \n",
              "21 台南市楠西?香蕉山梅嶺20?             23.18072 120.5497 ⋯ TRUE   NA        \n",
              "   建立日期         最後更新日期    \n",
              "1  2015/7/21 11:38  2017/11/9 10:09 \n",
              "2  2015/7/21 11:40  2017/11/8 10:06 \n",
              "3  2015/9/4 15:39   2015/12/31 12:47\n",
              "4  2015/9/4 15:39   2020/7/1 15:38  \n",
              "5  2016/5/10 18:07  2017/11/8 17:01 \n",
              "6  2016/5/10 18:07  2020/7/1 14:41  \n",
              "7  2016/5/11 18:32  2020/7/1 16:00  \n",
              "8  2016/7/28 15:31  2017/11/9 12:22 \n",
              "9  2017/6/29 16:09  2020/3/20 18:25 \n",
              "10 2017/6/29 16:16  2017/11/9 14:44 \n",
              "11 2017/6/29 17:27  2020/7/1 15:58  \n",
              "12 2017/7/12 23:39  2017/11/9 14:52 \n",
              "13 2017/7/16 14:24  2020/7/1 15:59  \n",
              "14 2017/8/5 10:13   2020/1/13 09:52 \n",
              "15 2020/1/13 13:36  2020/1/13 13:36 \n",
              "16 2020/1/13 13:36  2020/1/13 13:36 \n",
              "17 2020/3/11 16:32  2020/3/11 16:32 \n",
              "18 2020/3/13 15:36  2020/3/13 15:36 \n",
              "19 2020/3/13 15:43  2020/7/1 15:51  \n",
              "20 2020/10/17 14:51 2020/10/17 14:51\n",
              "21 2020/10/17 15:04 2020/10/17 15:04\n",
              "   店長照片                                                                 \n",
              "1  https://taiwan-askme.tw/upload/userfiles/event/11-1c.jpg                 \n",
              "2                                                                           \n",
              "3  https://taiwan-askme.tw/upload/userfiles/event/66-1.jpg                  \n",
              "4  https://taiwan-askme.tw/upload/userfiles/event/74-01.jpg                 \n",
              "5                                                                           \n",
              "6  https://taiwan-askme.tw/upload/userfiles/event/155.JPG                   \n",
              "7                                                                           \n",
              "8  https://taiwan-askme.tw/upload/userfiles/shop/203_01.jpg                 \n",
              "9  https://taiwan-askme.tw/upload/userfiles/shop/新營服務區.jpg             \n",
              "10 https://taiwan-askme.tw/upload/userfiles/shop/仁德服務區.jpg             \n",
              "11 https://taiwan-askme.tw/upload/userfiles/shop/關廟服務區.jpg             \n",
              "12 https://taiwan-askme.tw/upload/userfiles/shop/C01021_林咸旭台博館之美.jpg\n",
              "13 https://taiwan-askme.tw/upload/userfiles/shop/23801.JPG                  \n",
              "14 https://taiwan-askme.tw/upload/userfiles/shop/26902.jpg                  \n",
              "15                                                                          \n",
              "16                                                                          \n",
              "17                                                                          \n",
              "18                                                                          \n",
              "19                                                                          \n",
              "20                                                                          \n",
              "21                                                                          \n",
              "   外連網址                                         小鎮漫遊 縣市名稱_中\n",
              "1                                                   0        臺南市     \n",
              "2                                                   0        臺南市     \n",
              "3  http://tour.tainan.gov.tw/plan.aspx?nodeid=12816 0        臺南市     \n",
              "4                                                   0        臺南市     \n",
              "5                                                   0        臺南市     \n",
              "6                                                   0        臺南市     \n",
              "7                                                   0        臺南市     \n",
              "8                                                   0        臺南市     \n",
              "9                                                   1        臺南市     \n",
              "10                                                  0        臺南市     \n",
              "11                                                  0        臺南市     \n",
              "12                                                  0        臺南市     \n",
              "13                                                  0        臺南市     \n",
              "14                                                  0        臺南市     \n",
              "15                                                  0        臺南市     \n",
              "16                                                  0        臺南市     \n",
              "17                                                  0        臺南市     \n",
              "18                                                  0        臺南市     \n",
              "19                                                  0        臺南市     \n",
              "20                                                  0        臺南市     \n",
              "21                                                  0        臺南市     \n",
              "   縣市名稱_英 縣市名稱_日\n",
              "1  Tainan City 台南市     \n",
              "2  Tainan City 台南市     \n",
              "3  Tainan City 台南市     \n",
              "4  Tainan City 台南市     \n",
              "5  Tainan City 台南市     \n",
              "6  Tainan City 台南市     \n",
              "7  Tainan City 台南市     \n",
              "8  Tainan City 台南市     \n",
              "9  Tainan City 台南市     \n",
              "10 Tainan City 台南市     \n",
              "11 Tainan City 台南市     \n",
              "12 Tainan City 台南市     \n",
              "13 Tainan City 台南市     \n",
              "14 Tainan City 台南市     \n",
              "15 Tainan City 台南市     \n",
              "16 Tainan City 台南市     \n",
              "17 Tainan City 台南市     \n",
              "18 Tainan City 台南市     \n",
              "19 Tainan City 台南市     \n",
              "20 Tainan City 台南市     \n",
              "21 Tainan City 台南市     "
            ],
            "text/latex": "A data.frame: 21 × 35\n\\begin{tabular}{lllllllllllllllllllll}\n 縣市代碼 & 店家照片 & 店名\\_中 & 店名\\_英 & 店名\\_日 & 地址\\_中 & 地址\\_英 & 地址\\_日 & 緯度 & 經度 & ⋯ & 啟用 & 是否匯入資料 & 建立日期 & 最後更新日期 & 店長照片 & 外連網址 & 小鎮漫遊 & 縣市名稱\\_中 & 縣市名稱\\_英 & 縣市名稱\\_日\\\\\n <int> & <chr> & <chr> & <chr> & <chr> & <chr> & <chr> & <chr> & <dbl> & <dbl> & ⋯ & <lgl> & <lgl> & <chr> & <chr> & <chr> & <chr> & <int> & <chr> & <chr> & <chr>\\\\\n\\hline\n\t 67 & https://taiwan-askme.tw/upload/userfiles/shop/fm\\_01.JPG                   & 全家便利商店-善化正國店  & FamilyMart (Shanhua Zhengguo)                 & FamilyMart善化正?店      & 台南市善化區文昌里中正路160號          & No.160, Zhongzheng Rd., Shanhua Dist., Tainan City                               & 台南市善化?文昌里中正路160?          & 23.12345 & 120.2943 & ⋯ & TRUE & TRUE & 2015/7/21 11:38  & 2017/11/9 10:09  & https://taiwan-askme.tw/upload/userfiles/event/11-1c.jpg                  &                                                  & 0 & 臺南市 & Tainan City & 台南市\\\\\n\t 67 & https://taiwan-askme.tw/upload/userfiles/shop/013\\_01.jpg                  & 統一超商-善和門市        & 7-11 (Shanhe)                                 & 7-11善和店               & 台南巿善化區大成路319號                & No.319, Dacheng Rd., Shanhua Dist., Tainan City                                  & 台南巿善化?大成路319?                & 23.12962 & 120.2982 & ⋯ & TRUE & TRUE & 2015/7/21 11:40  & 2017/11/8 10:06  &                                                                           &                                                  & 0 & 臺南市 & Tainan City & 台南市\\\\\n\t 67 & https://taiwan-askme.tw/upload/userfiles/shop/66-03.jpg                   & 夕遊 井仔腳瓦盤鹽田      & Sio House                                     & 夕遊 井仔腳瓦盤?田       & 臺南市北門區永華里西南郊井仔腳復育鹽田 & Jingzaijiao, Yonghua Village, Beimendistrict, Tainan City (R.O.C.)               & 台南市北門?永華里西南郊井仔腳復育?田 & 23.26009 & 120.1098 & ⋯ & TRUE & TRUE & 2015/9/4 15:39   & 2015/12/31 12:47 & https://taiwan-askme.tw/upload/userfiles/event/66-1.jpg                   & http://tour.tainan.gov.tw/plan.aspx?nodeid=12816 & 0 & 臺南市 & Tainan City & 台南市\\\\\n\t 67 & https://taiwan-askme.tw/upload/userfiles/shop/74-01.jpg                   & 有間冰舖                 & A Shaved Ice Shop                             & 有間冰舖                 & 臺南市玉井區中正路152號                & No.152, Zhongzheng Rd., Yujing Dist., Tainan City                                & 台南市玉井?中正路152?                & 23.12422 & 120.4614 & ⋯ & TRUE & TRUE & 2015/9/4 15:39   & 2020/7/1 15:38   & https://taiwan-askme.tw/upload/userfiles/event/74-01.jpg                  &                                                  & 0 & 臺南市 & Tainan City & 台南市\\\\\n\t 67 & https://taiwan-askme.tw/upload/userfiles/shop/128\\_01.jpg                  & 果農之家                 & the House of Fruit Farmer                     & 果農?家                  & 臺南市楠西區密枝里6號                  & No.6, Mizhi, Nanxi Dist., Tainan City 715, Taiwan (R.O.C.)                       & 臺南市楠西?密枝里6?                  &  0.00000 &   0.0000 & ⋯ & TRUE & TRUE & 2016/5/10 18:07  & 2017/11/8 17:01  &                                                                           &                                                  & 0 & 臺南市 & Tainan City & 台南市\\\\\n\t 67 & https://taiwan-askme.tw/upload/userfiles/event/155.JPG                    & DOGA香酥脆椒             & DoGa Xiang Crisp Chili                        & ????唐辛子????           & 臺南市安平區安平路 556 號              & No. 556, Anping Rd., Anping Dist., Tainan City 708 Taiwan                        & 708台南市安平區安平路 556 號         &  0.00000 &   0.0000 & ⋯ & TRUE & TRUE & 2016/5/10 18:07  & 2020/7/1 14:41   & https://taiwan-askme.tw/upload/userfiles/event/155.JPG                    &                                                  & 0 & 臺南市 & Tainan City & 台南市\\\\\n\t 67 & https://taiwan-askme.tw/upload/userfiles/shop/129\\_01.jpg                  & 雲萊山莊                 &  Lai Yun Villa                                & 雲萊山莊                 & 臺南市白河區關嶺里129號                & No.129, Guanling, Baihe Dist., Tainan City 732, Taiwan (R.O.C.)                  & 臺南市白河?關嶺里129?                & 23.31718 & 120.5106 & ⋯ & TRUE &   NA & 2016/5/11 18:32  & 2020/7/1 16:00   &                                                                           &                                                  & 0 & 臺南市 & Tainan City & 台南市\\\\\n\t 67 & https://taiwan-askme.tw/upload/userfiles/shop/203\\_01.jpg                  & 東山服務區               &  Dongshan Service Area                        & 東山????????             & 台南市東山區枋子林74-6號               & No.74-6, Fangzilin, Dongshan Dist., Tainan City 733, Taiwan (R.O.C.)             & 台南市東山?枋子林74-6?               & 23.28622 & 120.3983 & ⋯ & TRUE &   NA & 2016/7/28 15:31  & 2017/11/9 12:22  & https://taiwan-askme.tw/upload/userfiles/shop/203\\_01.jpg                  &                                                  & 0 & 臺南市 & Tainan City & 台南市\\\\\n\t 67 & https://taiwan-askme.tw/upload/userfiles/shop/新營服務區.jpg              & 新營服務區               & Xinying Service Area                          & 新????????               & 台南市後壁區竹新里新厝72號             & No. 72, Xincu, Zhuxin Village, Houbi District, Tainan City                       & 台南市後壁?竹新里新厝72?             & 23.33957 & 120.3127 & ⋯ & TRUE &   NA & 2017/6/29 16:09  & 2020/3/20 18:25  & https://taiwan-askme.tw/upload/userfiles/shop/新營服務區.jpg              &                                                  & 1 & 臺南市 & Tainan City & 台南市\\\\\n\t 67 & https://taiwan-askme.tw/upload/userfiles/shop/仁德服務區.jpg              & 仁德服務區               & Rende Service Area                            & 仁????????               & 台南市仁德區中洲里中洲1之16號          & No. 1-16, Zhongzhou, Zhongzhou Village, Rende District, Tainan City              & 台南市仁??中洲里中洲1-16?            & 22.90644 & 120.2663 & ⋯ & TRUE &   NA & 2017/6/29 16:16  & 2017/11/9 14:44  & https://taiwan-askme.tw/upload/userfiles/shop/仁德服務區.jpg              &                                                  & 0 & 臺南市 & Tainan City & 台南市\\\\\n\t 67 & https://taiwan-askme.tw/upload/userfiles/shop/關廟服務區.jpg              & 關廟服務區               & Guanmiao Service Area                         & ?廟???????               & 台南市龍崎區楠坑里6鄰楠坑12之1號?      & No. 12-1, Nankeng, Neighborhood 6, Nankeng Village, Longqi District, Tainan City & 台南市龍崎?楠坑里6?楠坑12之1??       & 22.92914 & 120.3526 & ⋯ & TRUE &   NA & 2017/6/29 17:27  & 2020/7/1 15:58   & https://taiwan-askme.tw/upload/userfiles/shop/關廟服務區.jpg              &                                                  & 0 & 臺南市 & Tainan City & 台南市\\\\\n\t 67 & https://taiwan-askme.tw/upload/userfiles/shop/C01021\\_林咸旭台博館之美.jpg & 臺灣鹽博物館             & Taiwan Salt Museum                            & 台???博物館              & 臺南市七股區鹽埕里69號                 & No. 69, Yancheng Borough, Cigu District, Tainan City                             & 台南市七股??埕里69?                  & 23.15543 & 120.1055 & ⋯ & TRUE &   NA & 2017/7/12 23:39  & 2017/11/9 14:52  & https://taiwan-askme.tw/upload/userfiles/shop/C01021\\_林咸旭台博館之美.jpg &                                                  & 0 & 臺南市 & Tainan City & 台南市\\\\\n\t 67 & https://taiwan-askme.tw/upload/userfiles/shop/23801.JPG                   & 佛都愛玉佳里成功旗艦店   & Fodu Aiyu Jelly - Chengkung Flagship Shop     & 佛都愛玉佳里成功???????? & 臺南市佳里區成功路200 號               & No. 200, Chengkung Road, Jiali District, Tainan City                             & 台南市佳里?成功路200?                & 23.15037 & 120.1734 & ⋯ & TRUE & TRUE & 2017/7/16 14:24  & 2020/7/1 15:59   & https://taiwan-askme.tw/upload/userfiles/shop/23801.JPG                   &                                                  & 0 & 臺南市 & Tainan City & 台南市\\\\\n\t 67 & https://taiwan-askme.tw/upload/userfiles/shop/26902.jpg                   & 李子園小舖               & Leeziyuan Store                               & 李子園小?                & 臺南市東山區高原里李子園 93 號         & No. 93, Leeziyuan, Gaoyuan, Dongshan District, Tainan City.                      & 台南市東山?高原里李子園93?           & 23.28691 & 120.5063 & ⋯ & TRUE &   NA & 2017/8/5 10:13   & 2020/1/13 09:52  & https://taiwan-askme.tw/upload/userfiles/shop/26902.jpg                   &                                                  & 0 & 臺南市 & Tainan City & 台南市\\\\\n\t 67 &                                                                           & 大坑休閒農場             & Dakeng Leisure Farm                           & 大坑?光(休閑)農場        & 臺南市新化區大坑里82號                 & No. 82, Dakengli, Xinhua Dist., Tainan City                                      & 台南市新化?大坑里82?                 &  0.00000 &   0.0000 & ⋯ & TRUE & TRUE & 2020/1/13 13:36  & 2020/1/13 13:36  &                                                                           &                                                  & 0 & 臺南市 & Tainan City & 台南市\\\\\n\t 67 &                                                                           & 石子瀨社區發展協會       & Shi Zi Lai Community Development Association  & 石子瀨社??展協?          & 臺南市大內區石城里114-66號             & No. 114-66, Shichengli, Danei Dist., Tainan City                                 & 台南市大??石城里114-66?              &  0.00000 &   0.0000 & ⋯ & TRUE & TRUE & 2020/1/13 13:36  & 2020/1/13 13:36  &                                                                           &                                                  & 0 & 臺南市 & Tainan City & 台南市\\\\\n\t 67 & https://taiwan-askme.tw/upload/userfiles/shop/瑪莎園景觀餐廳.png          & 瑪莎園景觀餐廳           &                                               &                          & 台南市玉井區沙田里沙田25-66號          &                                                                                  &                                      & 23.07000 & 120.2900 & ⋯ & TRUE &   NA & 2020/3/11 16:32  & 2020/3/11 16:32  &                                                                           &                                                  & 0 & 臺南市 & Tainan City & 台南市\\\\\n\t 67 & https://taiwan-askme.tw/upload/userfiles/大坑休閒農場.jpg                 & 大坑休閒農場             &                                               &                          & 台南市新化區大坑里82號                 &                                                                                  &                                      & 23.00000 & 120.2300 & ⋯ & TRUE &   NA & 2020/3/13 15:36  & 2020/3/13 15:36  &                                                                           &                                                  & 0 & 臺南市 & Tainan City & 台南市\\\\\n\t 67 & https://taiwan-askme.tw/upload/userfiles/石子瀨社區發展協會.JPG           & 石子瀨社區發展協會       &                                               &                          & 台南市大內區石城里114-66號             &                                                                                  &                                      & 23.07000 & 120.2100 & ⋯ & TRUE &   NA & 2020/3/13 15:43  & 2020/7/1 15:51   &                                                                           &                                                  & 0 & 臺南市 & Tainan City & 台南市\\\\\n\t 67 & https://taiwan-askme.tw/upload/userfiles/store/109newshop/05.png          & 左鎮公?社區              & Zuozhen Gongguan Community                    & 左鎮公?社?               & 臺南市左鎮區岡林里31號                 & No. 31, Ganglinli, Zuozhen Dist., Tainan City                                    & 台南市左鎮?岡林里31?                 & 23.00718 & 120.4124 & ⋯ & TRUE &   NA & 2020/10/17 14:51 & 2020/10/17 14:51 &                                                                           &                                                  & 0 & 臺南市 & Tainan City & 台南市\\\\\n\t 67 & https://taiwan-askme.tw/upload/userfiles/store/109newshop/06.png          & 梅嶺食品遊客休閒中心     & Main Lead Food                                & 梅嶺食品?????????        & 臺南市楠西區香蕉山梅嶺20號             & No. 20, Meiling, Xiangjiaoshan, Nanxi Dist., Tainan City                         & 台南市楠西?香蕉山梅嶺20?             & 23.18072 & 120.5497 & ⋯ & TRUE &   NA & 2020/10/17 15:04 & 2020/10/17 15:04 &                                                                           &                                                  & 0 & 臺南市 & Tainan City & 台南市\\\\\n\\end{tabular}\n",
            "text/markdown": "\nA data.frame: 21 × 35\n\n| 縣市代碼 &lt;int&gt; | 店家照片 &lt;chr&gt; | 店名_中 &lt;chr&gt; | 店名_英 &lt;chr&gt; | 店名_日 &lt;chr&gt; | 地址_中 &lt;chr&gt; | 地址_英 &lt;chr&gt; | 地址_日 &lt;chr&gt; | 緯度 &lt;dbl&gt; | 經度 &lt;dbl&gt; | ⋯ ⋯ | 啟用 &lt;lgl&gt; | 是否匯入資料 &lt;lgl&gt; | 建立日期 &lt;chr&gt; | 最後更新日期 &lt;chr&gt; | 店長照片 &lt;chr&gt; | 外連網址 &lt;chr&gt; | 小鎮漫遊 &lt;int&gt; | 縣市名稱_中 &lt;chr&gt; | 縣市名稱_英 &lt;chr&gt; | 縣市名稱_日 &lt;chr&gt; |\n|---|---|---|---|---|---|---|---|---|---|---|---|---|---|---|---|---|---|---|---|---|\n| 67 | https://taiwan-askme.tw/upload/userfiles/shop/fm_01.JPG                   | 全家便利商店-善化正國店  | FamilyMart (Shanhua Zhengguo)                 | FamilyMart善化正?店      | 台南市善化區文昌里中正路160號          | No.160, Zhongzheng Rd., Shanhua Dist., Tainan City                               | 台南市善化?文昌里中正路160?          | 23.12345 | 120.2943 | ⋯ | TRUE | TRUE | 2015/7/21 11:38  | 2017/11/9 10:09  | https://taiwan-askme.tw/upload/userfiles/event/11-1c.jpg                  | <!----> | 0 | 臺南市 | Tainan City | 台南市 |\n| 67 | https://taiwan-askme.tw/upload/userfiles/shop/013_01.jpg                  | 統一超商-善和門市        | 7-11 (Shanhe)                                 | 7-11善和店               | 台南巿善化區大成路319號                | No.319, Dacheng Rd., Shanhua Dist., Tainan City                                  | 台南巿善化?大成路319?                | 23.12962 | 120.2982 | ⋯ | TRUE | TRUE | 2015/7/21 11:40  | 2017/11/8 10:06  | <!----> | <!----> | 0 | 臺南市 | Tainan City | 台南市 |\n| 67 | https://taiwan-askme.tw/upload/userfiles/shop/66-03.jpg                   | 夕遊 井仔腳瓦盤鹽田      | Sio House                                     | 夕遊 井仔腳瓦盤?田       | 臺南市北門區永華里西南郊井仔腳復育鹽田 | Jingzaijiao, Yonghua Village, Beimendistrict, Tainan City (R.O.C.)               | 台南市北門?永華里西南郊井仔腳復育?田 | 23.26009 | 120.1098 | ⋯ | TRUE | TRUE | 2015/9/4 15:39   | 2015/12/31 12:47 | https://taiwan-askme.tw/upload/userfiles/event/66-1.jpg                   | http://tour.tainan.gov.tw/plan.aspx?nodeid=12816 | 0 | 臺南市 | Tainan City | 台南市 |\n| 67 | https://taiwan-askme.tw/upload/userfiles/shop/74-01.jpg                   | 有間冰舖                 | A Shaved Ice Shop                             | 有間冰舖                 | 臺南市玉井區中正路152號                | No.152, Zhongzheng Rd., Yujing Dist., Tainan City                                | 台南市玉井?中正路152?                | 23.12422 | 120.4614 | ⋯ | TRUE | TRUE | 2015/9/4 15:39   | 2020/7/1 15:38   | https://taiwan-askme.tw/upload/userfiles/event/74-01.jpg                  | <!----> | 0 | 臺南市 | Tainan City | 台南市 |\n| 67 | https://taiwan-askme.tw/upload/userfiles/shop/128_01.jpg                  | 果農之家                 | the House of Fruit Farmer                     | 果農?家                  | 臺南市楠西區密枝里6號                  | No.6, Mizhi, Nanxi Dist., Tainan City 715, Taiwan (R.O.C.)                       | 臺南市楠西?密枝里6?                  |  0.00000 |   0.0000 | ⋯ | TRUE | TRUE | 2016/5/10 18:07  | 2017/11/8 17:01  | <!----> | <!----> | 0 | 臺南市 | Tainan City | 台南市 |\n| 67 | https://taiwan-askme.tw/upload/userfiles/event/155.JPG                    | DOGA香酥脆椒             | DoGa Xiang Crisp Chili                        | ????唐辛子????           | 臺南市安平區安平路 556 號              | No. 556, Anping Rd., Anping Dist., Tainan City 708 Taiwan                        | 708台南市安平區安平路 556 號         |  0.00000 |   0.0000 | ⋯ | TRUE | TRUE | 2016/5/10 18:07  | 2020/7/1 14:41   | https://taiwan-askme.tw/upload/userfiles/event/155.JPG                    | <!----> | 0 | 臺南市 | Tainan City | 台南市 |\n| 67 | https://taiwan-askme.tw/upload/userfiles/shop/129_01.jpg                  | 雲萊山莊                 |  Lai Yun Villa                                | 雲萊山莊                 | 臺南市白河區關嶺里129號                | No.129, Guanling, Baihe Dist., Tainan City 732, Taiwan (R.O.C.)                  | 臺南市白河?關嶺里129?                | 23.31718 | 120.5106 | ⋯ | TRUE |   NA | 2016/5/11 18:32  | 2020/7/1 16:00   | <!----> | <!----> | 0 | 臺南市 | Tainan City | 台南市 |\n| 67 | https://taiwan-askme.tw/upload/userfiles/shop/203_01.jpg                  | 東山服務區               |  Dongshan Service Area                        | 東山????????             | 台南市東山區枋子林74-6號               | No.74-6, Fangzilin, Dongshan Dist., Tainan City 733, Taiwan (R.O.C.)             | 台南市東山?枋子林74-6?               | 23.28622 | 120.3983 | ⋯ | TRUE |   NA | 2016/7/28 15:31  | 2017/11/9 12:22  | https://taiwan-askme.tw/upload/userfiles/shop/203_01.jpg                  | <!----> | 0 | 臺南市 | Tainan City | 台南市 |\n| 67 | https://taiwan-askme.tw/upload/userfiles/shop/新營服務區.jpg              | 新營服務區               | Xinying Service Area                          | 新????????               | 台南市後壁區竹新里新厝72號             | No. 72, Xincu, Zhuxin Village, Houbi District, Tainan City                       | 台南市後壁?竹新里新厝72?             | 23.33957 | 120.3127 | ⋯ | TRUE |   NA | 2017/6/29 16:09  | 2020/3/20 18:25  | https://taiwan-askme.tw/upload/userfiles/shop/新營服務區.jpg              | <!----> | 1 | 臺南市 | Tainan City | 台南市 |\n| 67 | https://taiwan-askme.tw/upload/userfiles/shop/仁德服務區.jpg              | 仁德服務區               | Rende Service Area                            | 仁????????               | 台南市仁德區中洲里中洲1之16號          | No. 1-16, Zhongzhou, Zhongzhou Village, Rende District, Tainan City              | 台南市仁??中洲里中洲1-16?            | 22.90644 | 120.2663 | ⋯ | TRUE |   NA | 2017/6/29 16:16  | 2017/11/9 14:44  | https://taiwan-askme.tw/upload/userfiles/shop/仁德服務區.jpg              | <!----> | 0 | 臺南市 | Tainan City | 台南市 |\n| 67 | https://taiwan-askme.tw/upload/userfiles/shop/關廟服務區.jpg              | 關廟服務區               | Guanmiao Service Area                         | ?廟???????               | 台南市龍崎區楠坑里6鄰楠坑12之1號?      | No. 12-1, Nankeng, Neighborhood 6, Nankeng Village, Longqi District, Tainan City | 台南市龍崎?楠坑里6?楠坑12之1??       | 22.92914 | 120.3526 | ⋯ | TRUE |   NA | 2017/6/29 17:27  | 2020/7/1 15:58   | https://taiwan-askme.tw/upload/userfiles/shop/關廟服務區.jpg              | <!----> | 0 | 臺南市 | Tainan City | 台南市 |\n| 67 | https://taiwan-askme.tw/upload/userfiles/shop/C01021_林咸旭台博館之美.jpg | 臺灣鹽博物館             | Taiwan Salt Museum                            | 台???博物館              | 臺南市七股區鹽埕里69號                 | No. 69, Yancheng Borough, Cigu District, Tainan City                             | 台南市七股??埕里69?                  | 23.15543 | 120.1055 | ⋯ | TRUE |   NA | 2017/7/12 23:39  | 2017/11/9 14:52  | https://taiwan-askme.tw/upload/userfiles/shop/C01021_林咸旭台博館之美.jpg | <!----> | 0 | 臺南市 | Tainan City | 台南市 |\n| 67 | https://taiwan-askme.tw/upload/userfiles/shop/23801.JPG                   | 佛都愛玉佳里成功旗艦店   | Fodu Aiyu Jelly - Chengkung Flagship Shop     | 佛都愛玉佳里成功???????? | 臺南市佳里區成功路200 號               | No. 200, Chengkung Road, Jiali District, Tainan City                             | 台南市佳里?成功路200?                | 23.15037 | 120.1734 | ⋯ | TRUE | TRUE | 2017/7/16 14:24  | 2020/7/1 15:59   | https://taiwan-askme.tw/upload/userfiles/shop/23801.JPG                   | <!----> | 0 | 臺南市 | Tainan City | 台南市 |\n| 67 | https://taiwan-askme.tw/upload/userfiles/shop/26902.jpg                   | 李子園小舖               | Leeziyuan Store                               | 李子園小?                | 臺南市東山區高原里李子園 93 號         | No. 93, Leeziyuan, Gaoyuan, Dongshan District, Tainan City.                      | 台南市東山?高原里李子園93?           | 23.28691 | 120.5063 | ⋯ | TRUE |   NA | 2017/8/5 10:13   | 2020/1/13 09:52  | https://taiwan-askme.tw/upload/userfiles/shop/26902.jpg                   | <!----> | 0 | 臺南市 | Tainan City | 台南市 |\n| 67 | <!----> | 大坑休閒農場             | Dakeng Leisure Farm                           | 大坑?光(休閑)農場        | 臺南市新化區大坑里82號                 | No. 82, Dakengli, Xinhua Dist., Tainan City                                      | 台南市新化?大坑里82?                 |  0.00000 |   0.0000 | ⋯ | TRUE | TRUE | 2020/1/13 13:36  | 2020/1/13 13:36  | <!----> | <!----> | 0 | 臺南市 | Tainan City | 台南市 |\n| 67 | <!----> | 石子瀨社區發展協會       | Shi Zi Lai Community Development Association  | 石子瀨社??展協?          | 臺南市大內區石城里114-66號             | No. 114-66, Shichengli, Danei Dist., Tainan City                                 | 台南市大??石城里114-66?              |  0.00000 |   0.0000 | ⋯ | TRUE | TRUE | 2020/1/13 13:36  | 2020/1/13 13:36  | <!----> | <!----> | 0 | 臺南市 | Tainan City | 台南市 |\n| 67 | https://taiwan-askme.tw/upload/userfiles/shop/瑪莎園景觀餐廳.png          | 瑪莎園景觀餐廳           | <!----> | <!----> | 台南市玉井區沙田里沙田25-66號          | <!----> | <!----> | 23.07000 | 120.2900 | ⋯ | TRUE |   NA | 2020/3/11 16:32  | 2020/3/11 16:32  | <!----> | <!----> | 0 | 臺南市 | Tainan City | 台南市 |\n| 67 | https://taiwan-askme.tw/upload/userfiles/大坑休閒農場.jpg                 | 大坑休閒農場             | <!----> | <!----> | 台南市新化區大坑里82號                 | <!----> | <!----> | 23.00000 | 120.2300 | ⋯ | TRUE |   NA | 2020/3/13 15:36  | 2020/3/13 15:36  | <!----> | <!----> | 0 | 臺南市 | Tainan City | 台南市 |\n| 67 | https://taiwan-askme.tw/upload/userfiles/石子瀨社區發展協會.JPG           | 石子瀨社區發展協會       | <!----> | <!----> | 台南市大內區石城里114-66號             | <!----> | <!----> | 23.07000 | 120.2100 | ⋯ | TRUE |   NA | 2020/3/13 15:43  | 2020/7/1 15:51   | <!----> | <!----> | 0 | 臺南市 | Tainan City | 台南市 |\n| 67 | https://taiwan-askme.tw/upload/userfiles/store/109newshop/05.png          | 左鎮公?社區              | Zuozhen Gongguan Community                    | 左鎮公?社?               | 臺南市左鎮區岡林里31號                 | No. 31, Ganglinli, Zuozhen Dist., Tainan City                                    | 台南市左鎮?岡林里31?                 | 23.00718 | 120.4124 | ⋯ | TRUE |   NA | 2020/10/17 14:51 | 2020/10/17 14:51 | <!----> | <!----> | 0 | 臺南市 | Tainan City | 台南市 |\n| 67 | https://taiwan-askme.tw/upload/userfiles/store/109newshop/06.png          | 梅嶺食品遊客休閒中心     | Main Lead Food                                | 梅嶺食品?????????        | 臺南市楠西區香蕉山梅嶺20號             | No. 20, Meiling, Xiangjiaoshan, Nanxi Dist., Tainan City                         | 台南市楠西?香蕉山梅嶺20?             | 23.18072 | 120.5497 | ⋯ | TRUE |   NA | 2020/10/17 15:04 | 2020/10/17 15:04 | <!----> | <!----> | 0 | 臺南市 | Tainan City | 台南市 |\n\n",
            "text/html": [
              "<table class=\"dataframe\">\n",
              "<caption>A data.frame: 21 × 35</caption>\n",
              "<thead>\n",
              "\t<tr><th scope=col>縣市代碼</th><th scope=col>店家照片</th><th scope=col>店名_中</th><th scope=col>店名_英</th><th scope=col>店名_日</th><th scope=col>地址_中</th><th scope=col>地址_英</th><th scope=col>地址_日</th><th scope=col>緯度</th><th scope=col>經度</th><th scope=col>⋯</th><th scope=col>啟用</th><th scope=col>是否匯入資料</th><th scope=col>建立日期</th><th scope=col>最後更新日期</th><th scope=col>店長照片</th><th scope=col>外連網址</th><th scope=col>小鎮漫遊</th><th scope=col>縣市名稱_中</th><th scope=col>縣市名稱_英</th><th scope=col>縣市名稱_日</th></tr>\n",
              "\t<tr><th scope=col>&lt;int&gt;</th><th scope=col>&lt;chr&gt;</th><th scope=col>&lt;chr&gt;</th><th scope=col>&lt;chr&gt;</th><th scope=col>&lt;chr&gt;</th><th scope=col>&lt;chr&gt;</th><th scope=col>&lt;chr&gt;</th><th scope=col>&lt;chr&gt;</th><th scope=col>&lt;dbl&gt;</th><th scope=col>&lt;dbl&gt;</th><th scope=col>⋯</th><th scope=col>&lt;lgl&gt;</th><th scope=col>&lt;lgl&gt;</th><th scope=col>&lt;chr&gt;</th><th scope=col>&lt;chr&gt;</th><th scope=col>&lt;chr&gt;</th><th scope=col>&lt;chr&gt;</th><th scope=col>&lt;int&gt;</th><th scope=col>&lt;chr&gt;</th><th scope=col>&lt;chr&gt;</th><th scope=col>&lt;chr&gt;</th></tr>\n",
              "</thead>\n",
              "<tbody>\n",
              "\t<tr><td>67</td><td>https://taiwan-askme.tw/upload/userfiles/shop/fm_01.JPG                  </td><td>全家便利商店-善化正國店 </td><td>FamilyMart (Shanhua Zhengguo)                </td><td>FamilyMart善化正?店     </td><td>台南市善化區文昌里中正路160號         </td><td>No.160, Zhongzheng Rd., Shanhua Dist., Tainan City                              </td><td>台南市善化?文昌里中正路160?         </td><td>23.12345</td><td>120.2943</td><td>⋯</td><td>TRUE</td><td>TRUE</td><td>2015/7/21 11:38 </td><td>2017/11/9 10:09 </td><td>https://taiwan-askme.tw/upload/userfiles/event/11-1c.jpg                 </td><td>                                                </td><td>0</td><td>臺南市</td><td>Tainan City</td><td>台南市</td></tr>\n",
              "\t<tr><td>67</td><td>https://taiwan-askme.tw/upload/userfiles/shop/013_01.jpg                 </td><td>統一超商-善和門市       </td><td>7-11 (Shanhe)                                </td><td>7-11善和店              </td><td>台南巿善化區大成路319號               </td><td>No.319, Dacheng Rd., Shanhua Dist., Tainan City                                 </td><td>台南巿善化?大成路319?               </td><td>23.12962</td><td>120.2982</td><td>⋯</td><td>TRUE</td><td>TRUE</td><td>2015/7/21 11:40 </td><td>2017/11/8 10:06 </td><td>                                                                         </td><td>                                                </td><td>0</td><td>臺南市</td><td>Tainan City</td><td>台南市</td></tr>\n",
              "\t<tr><td>67</td><td>https://taiwan-askme.tw/upload/userfiles/shop/66-03.jpg                  </td><td>夕遊 井仔腳瓦盤鹽田     </td><td>Sio House                                    </td><td>夕遊 井仔腳瓦盤?田      </td><td>臺南市北門區永華里西南郊井仔腳復育鹽田</td><td>Jingzaijiao, Yonghua Village, Beimendistrict, Tainan City (R.O.C.)              </td><td>台南市北門?永華里西南郊井仔腳復育?田</td><td>23.26009</td><td>120.1098</td><td>⋯</td><td>TRUE</td><td>TRUE</td><td>2015/9/4 15:39  </td><td>2015/12/31 12:47</td><td>https://taiwan-askme.tw/upload/userfiles/event/66-1.jpg                  </td><td>http://tour.tainan.gov.tw/plan.aspx?nodeid=12816</td><td>0</td><td>臺南市</td><td>Tainan City</td><td>台南市</td></tr>\n",
              "\t<tr><td>67</td><td>https://taiwan-askme.tw/upload/userfiles/shop/74-01.jpg                  </td><td>有間冰舖                </td><td>A Shaved Ice Shop                            </td><td>有間冰舖                </td><td>臺南市玉井區中正路152號               </td><td>No.152, Zhongzheng Rd., Yujing Dist., Tainan City                               </td><td>台南市玉井?中正路152?               </td><td>23.12422</td><td>120.4614</td><td>⋯</td><td>TRUE</td><td>TRUE</td><td>2015/9/4 15:39  </td><td>2020/7/1 15:38  </td><td>https://taiwan-askme.tw/upload/userfiles/event/74-01.jpg                 </td><td>                                                </td><td>0</td><td>臺南市</td><td>Tainan City</td><td>台南市</td></tr>\n",
              "\t<tr><td>67</td><td>https://taiwan-askme.tw/upload/userfiles/shop/128_01.jpg                 </td><td>果農之家                </td><td>the House of Fruit Farmer                    </td><td>果農?家                 </td><td>臺南市楠西區密枝里6號                 </td><td>No.6, Mizhi, Nanxi Dist., Tainan City 715, Taiwan (R.O.C.)                      </td><td>臺南市楠西?密枝里6?                 </td><td> 0.00000</td><td>  0.0000</td><td>⋯</td><td>TRUE</td><td>TRUE</td><td>2016/5/10 18:07 </td><td>2017/11/8 17:01 </td><td>                                                                         </td><td>                                                </td><td>0</td><td>臺南市</td><td>Tainan City</td><td>台南市</td></tr>\n",
              "\t<tr><td>67</td><td>https://taiwan-askme.tw/upload/userfiles/event/155.JPG                   </td><td>DOGA香酥脆椒            </td><td>DoGa Xiang Crisp Chili                       </td><td>????唐辛子????          </td><td>臺南市安平區安平路 556 號             </td><td>No. 556, Anping Rd., Anping Dist., Tainan City 708 Taiwan                       </td><td>708台南市安平區安平路 556 號        </td><td> 0.00000</td><td>  0.0000</td><td>⋯</td><td>TRUE</td><td>TRUE</td><td>2016/5/10 18:07 </td><td>2020/7/1 14:41  </td><td>https://taiwan-askme.tw/upload/userfiles/event/155.JPG                   </td><td>                                                </td><td>0</td><td>臺南市</td><td>Tainan City</td><td>台南市</td></tr>\n",
              "\t<tr><td>67</td><td>https://taiwan-askme.tw/upload/userfiles/shop/129_01.jpg                 </td><td>雲萊山莊                </td><td> Lai Yun Villa                               </td><td>雲萊山莊                </td><td>臺南市白河區關嶺里129號               </td><td>No.129, Guanling, Baihe Dist., Tainan City 732, Taiwan (R.O.C.)                 </td><td>臺南市白河?關嶺里129?               </td><td>23.31718</td><td>120.5106</td><td>⋯</td><td>TRUE</td><td>  NA</td><td>2016/5/11 18:32 </td><td>2020/7/1 16:00  </td><td>                                                                         </td><td>                                                </td><td>0</td><td>臺南市</td><td>Tainan City</td><td>台南市</td></tr>\n",
              "\t<tr><td>67</td><td>https://taiwan-askme.tw/upload/userfiles/shop/203_01.jpg                 </td><td>東山服務區              </td><td> Dongshan Service Area                       </td><td>東山????????            </td><td>台南市東山區枋子林74-6號              </td><td>No.74-6, Fangzilin, Dongshan Dist., Tainan City 733, Taiwan (R.O.C.)            </td><td>台南市東山?枋子林74-6?              </td><td>23.28622</td><td>120.3983</td><td>⋯</td><td>TRUE</td><td>  NA</td><td>2016/7/28 15:31 </td><td>2017/11/9 12:22 </td><td>https://taiwan-askme.tw/upload/userfiles/shop/203_01.jpg                 </td><td>                                                </td><td>0</td><td>臺南市</td><td>Tainan City</td><td>台南市</td></tr>\n",
              "\t<tr><td>67</td><td>https://taiwan-askme.tw/upload/userfiles/shop/新營服務區.jpg             </td><td>新營服務區              </td><td>Xinying Service Area                         </td><td>新????????              </td><td>台南市後壁區竹新里新厝72號            </td><td>No. 72, Xincu, Zhuxin Village, Houbi District, Tainan City                      </td><td>台南市後壁?竹新里新厝72?            </td><td>23.33957</td><td>120.3127</td><td>⋯</td><td>TRUE</td><td>  NA</td><td>2017/6/29 16:09 </td><td>2020/3/20 18:25 </td><td>https://taiwan-askme.tw/upload/userfiles/shop/新營服務區.jpg             </td><td>                                                </td><td>1</td><td>臺南市</td><td>Tainan City</td><td>台南市</td></tr>\n",
              "\t<tr><td>67</td><td>https://taiwan-askme.tw/upload/userfiles/shop/仁德服務區.jpg             </td><td>仁德服務區              </td><td>Rende Service Area                           </td><td>仁????????              </td><td>台南市仁德區中洲里中洲1之16號         </td><td>No. 1-16, Zhongzhou, Zhongzhou Village, Rende District, Tainan City             </td><td>台南市仁??中洲里中洲1-16?           </td><td>22.90644</td><td>120.2663</td><td>⋯</td><td>TRUE</td><td>  NA</td><td>2017/6/29 16:16 </td><td>2017/11/9 14:44 </td><td>https://taiwan-askme.tw/upload/userfiles/shop/仁德服務區.jpg             </td><td>                                                </td><td>0</td><td>臺南市</td><td>Tainan City</td><td>台南市</td></tr>\n",
              "\t<tr><td>67</td><td>https://taiwan-askme.tw/upload/userfiles/shop/關廟服務區.jpg             </td><td>關廟服務區              </td><td>Guanmiao Service Area                        </td><td>?廟???????              </td><td>台南市龍崎區楠坑里6鄰楠坑12之1號?     </td><td>No. 12-1, Nankeng, Neighborhood 6, Nankeng Village, Longqi District, Tainan City</td><td>台南市龍崎?楠坑里6?楠坑12之1??      </td><td>22.92914</td><td>120.3526</td><td>⋯</td><td>TRUE</td><td>  NA</td><td>2017/6/29 17:27 </td><td>2020/7/1 15:58  </td><td>https://taiwan-askme.tw/upload/userfiles/shop/關廟服務區.jpg             </td><td>                                                </td><td>0</td><td>臺南市</td><td>Tainan City</td><td>台南市</td></tr>\n",
              "\t<tr><td>67</td><td>https://taiwan-askme.tw/upload/userfiles/shop/C01021_林咸旭台博館之美.jpg</td><td>臺灣鹽博物館            </td><td>Taiwan Salt Museum                           </td><td>台???博物館             </td><td>臺南市七股區鹽埕里69號                </td><td>No. 69, Yancheng Borough, Cigu District, Tainan City                            </td><td>台南市七股??埕里69?                 </td><td>23.15543</td><td>120.1055</td><td>⋯</td><td>TRUE</td><td>  NA</td><td>2017/7/12 23:39 </td><td>2017/11/9 14:52 </td><td>https://taiwan-askme.tw/upload/userfiles/shop/C01021_林咸旭台博館之美.jpg</td><td>                                                </td><td>0</td><td>臺南市</td><td>Tainan City</td><td>台南市</td></tr>\n",
              "\t<tr><td>67</td><td>https://taiwan-askme.tw/upload/userfiles/shop/23801.JPG                  </td><td>佛都愛玉佳里成功旗艦店  </td><td>Fodu Aiyu Jelly - Chengkung Flagship Shop    </td><td>佛都愛玉佳里成功????????</td><td>臺南市佳里區成功路200 號              </td><td>No. 200, Chengkung Road, Jiali District, Tainan City                            </td><td>台南市佳里?成功路200?               </td><td>23.15037</td><td>120.1734</td><td>⋯</td><td>TRUE</td><td>TRUE</td><td>2017/7/16 14:24 </td><td>2020/7/1 15:59  </td><td>https://taiwan-askme.tw/upload/userfiles/shop/23801.JPG                  </td><td>                                                </td><td>0</td><td>臺南市</td><td>Tainan City</td><td>台南市</td></tr>\n",
              "\t<tr><td>67</td><td>https://taiwan-askme.tw/upload/userfiles/shop/26902.jpg                  </td><td>李子園小舖              </td><td>Leeziyuan Store                              </td><td>李子園小?               </td><td>臺南市東山區高原里李子園 93 號        </td><td>No. 93, Leeziyuan, Gaoyuan, Dongshan District, Tainan City.                     </td><td>台南市東山?高原里李子園93?          </td><td>23.28691</td><td>120.5063</td><td>⋯</td><td>TRUE</td><td>  NA</td><td>2017/8/5 10:13  </td><td>2020/1/13 09:52 </td><td>https://taiwan-askme.tw/upload/userfiles/shop/26902.jpg                  </td><td>                                                </td><td>0</td><td>臺南市</td><td>Tainan City</td><td>台南市</td></tr>\n",
              "\t<tr><td>67</td><td>                                                                         </td><td>大坑休閒農場            </td><td>Dakeng Leisure Farm                          </td><td>大坑?光(休閑)農場       </td><td>臺南市新化區大坑里82號                </td><td>No. 82, Dakengli, Xinhua Dist., Tainan City                                     </td><td>台南市新化?大坑里82?                </td><td> 0.00000</td><td>  0.0000</td><td>⋯</td><td>TRUE</td><td>TRUE</td><td>2020/1/13 13:36 </td><td>2020/1/13 13:36 </td><td>                                                                         </td><td>                                                </td><td>0</td><td>臺南市</td><td>Tainan City</td><td>台南市</td></tr>\n",
              "\t<tr><td>67</td><td>                                                                         </td><td>石子瀨社區發展協會      </td><td>Shi Zi Lai Community Development Association </td><td>石子瀨社??展協?         </td><td>臺南市大內區石城里114-66號            </td><td>No. 114-66, Shichengli, Danei Dist., Tainan City                                </td><td>台南市大??石城里114-66?             </td><td> 0.00000</td><td>  0.0000</td><td>⋯</td><td>TRUE</td><td>TRUE</td><td>2020/1/13 13:36 </td><td>2020/1/13 13:36 </td><td>                                                                         </td><td>                                                </td><td>0</td><td>臺南市</td><td>Tainan City</td><td>台南市</td></tr>\n",
              "\t<tr><td>67</td><td>https://taiwan-askme.tw/upload/userfiles/shop/瑪莎園景觀餐廳.png         </td><td>瑪莎園景觀餐廳          </td><td>                                             </td><td>                        </td><td>台南市玉井區沙田里沙田25-66號         </td><td>                                                                                </td><td>                                    </td><td>23.07000</td><td>120.2900</td><td>⋯</td><td>TRUE</td><td>  NA</td><td>2020/3/11 16:32 </td><td>2020/3/11 16:32 </td><td>                                                                         </td><td>                                                </td><td>0</td><td>臺南市</td><td>Tainan City</td><td>台南市</td></tr>\n",
              "\t<tr><td>67</td><td>https://taiwan-askme.tw/upload/userfiles/大坑休閒農場.jpg                </td><td>大坑休閒農場            </td><td>                                             </td><td>                        </td><td>台南市新化區大坑里82號                </td><td>                                                                                </td><td>                                    </td><td>23.00000</td><td>120.2300</td><td>⋯</td><td>TRUE</td><td>  NA</td><td>2020/3/13 15:36 </td><td>2020/3/13 15:36 </td><td>                                                                         </td><td>                                                </td><td>0</td><td>臺南市</td><td>Tainan City</td><td>台南市</td></tr>\n",
              "\t<tr><td>67</td><td>https://taiwan-askme.tw/upload/userfiles/石子瀨社區發展協會.JPG          </td><td>石子瀨社區發展協會      </td><td>                                             </td><td>                        </td><td>台南市大內區石城里114-66號            </td><td>                                                                                </td><td>                                    </td><td>23.07000</td><td>120.2100</td><td>⋯</td><td>TRUE</td><td>  NA</td><td>2020/3/13 15:43 </td><td>2020/7/1 15:51  </td><td>                                                                         </td><td>                                                </td><td>0</td><td>臺南市</td><td>Tainan City</td><td>台南市</td></tr>\n",
              "\t<tr><td>67</td><td>https://taiwan-askme.tw/upload/userfiles/store/109newshop/05.png         </td><td>左鎮公?社區             </td><td>Zuozhen Gongguan Community                   </td><td>左鎮公?社?              </td><td>臺南市左鎮區岡林里31號                </td><td>No. 31, Ganglinli, Zuozhen Dist., Tainan City                                   </td><td>台南市左鎮?岡林里31?                </td><td>23.00718</td><td>120.4124</td><td>⋯</td><td>TRUE</td><td>  NA</td><td>2020/10/17 14:51</td><td>2020/10/17 14:51</td><td>                                                                         </td><td>                                                </td><td>0</td><td>臺南市</td><td>Tainan City</td><td>台南市</td></tr>\n",
              "\t<tr><td>67</td><td>https://taiwan-askme.tw/upload/userfiles/store/109newshop/06.png         </td><td>梅嶺食品遊客休閒中心    </td><td>Main Lead Food                               </td><td>梅嶺食品?????????       </td><td>臺南市楠西區香蕉山梅嶺20號            </td><td>No. 20, Meiling, Xiangjiaoshan, Nanxi Dist., Tainan City                        </td><td>台南市楠西?香蕉山梅嶺20?            </td><td>23.18072</td><td>120.5497</td><td>⋯</td><td>TRUE</td><td>  NA</td><td>2020/10/17 15:04</td><td>2020/10/17 15:04</td><td>                                                                         </td><td>                                                </td><td>0</td><td>臺南市</td><td>Tainan City</td><td>台南市</td></tr>\n",
              "</tbody>\n",
              "</table>\n"
            ]
          },
          "metadata": {
            "tags": []
          }
        }
      ]
    },
    {
      "cell_type": "code",
      "metadata": {
        "colab": {
          "base_uri": "https://localhost:8080/",
          "height": 34
        },
        "id": "4wo69xglUq81",
        "outputId": "f9b8a6f0-e4c8-429a-a859-40392640f30c"
      },
      "source": [
        "head(dataset$店名_中, n=5)"
      ],
      "execution_count": 15,
      "outputs": [
        {
          "output_type": "display_data",
          "data": {
            "text/plain": [
              "[1] \"全家便利商店-善化正國店 \" \"統一超商-善和門市 \"      \n",
              "[3] \"夕遊 井仔腳瓦盤鹽田\"      \"有間冰舖\"                \n",
              "[5] \"果農之家\"                "
            ],
            "text/latex": "\\begin{enumerate*}\n\\item '全家便利商店-善化正國店 '\n\\item '統一超商-善和門市 '\n\\item '夕遊 井仔腳瓦盤鹽田'\n\\item '有間冰舖'\n\\item '果農之家'\n\\end{enumerate*}\n",
            "text/markdown": "1. '全家便利商店-善化正國店 '\n2. '統一超商-善和門市 '\n3. '夕遊 井仔腳瓦盤鹽田'\n4. '有間冰舖'\n5. '果農之家'\n\n\n",
            "text/html": [
              "<style>\n",
              ".list-inline {list-style: none; margin:0; padding: 0}\n",
              ".list-inline>li {display: inline-block}\n",
              ".list-inline>li:not(:last-child)::after {content: \"\\00b7\"; padding: 0 .5ex}\n",
              "</style>\n",
              "<ol class=list-inline><li>'全家便利商店-善化正國店 '</li><li>'統一超商-善和門市 '</li><li>'夕遊 井仔腳瓦盤鹽田'</li><li>'有間冰舖'</li><li>'果農之家'</li></ol>\n"
            ]
          },
          "metadata": {
            "tags": []
          }
        }
      ]
    },
    {
      "cell_type": "code",
      "metadata": {
        "colab": {
          "base_uri": "https://localhost:8080/",
          "height": 51
        },
        "id": "PU8m6wqGVIF_",
        "outputId": "42933d2e-1a16-44dd-efcc-fc8a6d69a0a5"
      },
      "source": [
        "tail(dataset$店名_英, n=15)"
      ],
      "execution_count": 16,
      "outputs": [
        {
          "output_type": "display_data",
          "data": {
            "text/plain": [
              " [1] \" Lai Yun Villa\"                               \n",
              " [2] \" Dongshan Service Area\"                       \n",
              " [3] \"Xinying Service Area\"                         \n",
              " [4] \"Rende Service Area\"                           \n",
              " [5] \"Guanmiao Service Area\"                        \n",
              " [6] \"Taiwan Salt Museum\"                           \n",
              " [7] \"Fodu Aiyu Jelly - Chengkung Flagship Shop\"    \n",
              " [8] \"Leeziyuan Store\"                              \n",
              " [9] \"Dakeng Leisure Farm\"                          \n",
              "[10] \"Shi Zi Lai Community Development Association \"\n",
              "[11] \"\"                                             \n",
              "[12] \"\"                                             \n",
              "[13] \"\"                                             \n",
              "[14] \"Zuozhen Gongguan Community\"                   \n",
              "[15] \"Main Lead Food\"                               "
            ],
            "text/latex": "\\begin{enumerate*}\n\\item ' Lai Yun Villa'\n\\item ' Dongshan Service Area'\n\\item 'Xinying Service Area'\n\\item 'Rende Service Area'\n\\item 'Guanmiao Service Area'\n\\item 'Taiwan Salt Museum'\n\\item 'Fodu Aiyu Jelly - Chengkung Flagship Shop'\n\\item 'Leeziyuan Store'\n\\item 'Dakeng Leisure Farm'\n\\item 'Shi Zi Lai Community Development Association '\n\\item ''\n\\item ''\n\\item ''\n\\item 'Zuozhen Gongguan Community'\n\\item 'Main Lead Food'\n\\end{enumerate*}\n",
            "text/markdown": "1. ' Lai Yun Villa'\n2. ' Dongshan Service Area'\n3. 'Xinying Service Area'\n4. 'Rende Service Area'\n5. 'Guanmiao Service Area'\n6. 'Taiwan Salt Museum'\n7. 'Fodu Aiyu Jelly - Chengkung Flagship Shop'\n8. 'Leeziyuan Store'\n9. 'Dakeng Leisure Farm'\n10. 'Shi Zi Lai Community Development Association '\n11. ''\n12. ''\n13. ''\n14. 'Zuozhen Gongguan Community'\n15. 'Main Lead Food'\n\n\n",
            "text/html": [
              "<style>\n",
              ".list-inline {list-style: none; margin:0; padding: 0}\n",
              ".list-inline>li {display: inline-block}\n",
              ".list-inline>li:not(:last-child)::after {content: \"\\00b7\"; padding: 0 .5ex}\n",
              "</style>\n",
              "<ol class=list-inline><li>' Lai Yun Villa'</li><li>' Dongshan Service Area'</li><li>'Xinying Service Area'</li><li>'Rende Service Area'</li><li>'Guanmiao Service Area'</li><li>'Taiwan Salt Museum'</li><li>'Fodu Aiyu Jelly - Chengkung Flagship Shop'</li><li>'Leeziyuan Store'</li><li>'Dakeng Leisure Farm'</li><li>'Shi Zi Lai Community Development Association '</li><li>''</li><li>''</li><li>''</li><li>'Zuozhen Gongguan Community'</li><li>'Main Lead Food'</li></ol>\n"
            ]
          },
          "metadata": {
            "tags": []
          }
        }
      ]
    },
    {
      "cell_type": "code",
      "metadata": {
        "colab": {
          "base_uri": "https://localhost:8080/",
          "height": 284
        },
        "id": "PgThAciyVQct",
        "outputId": "7aac4990-69dc-4caf-ceb4-237d2a5d90a4"
      },
      "source": [
        "dataset[grepl(\"全家\",dataset$店名_中),]"
      ],
      "execution_count": 17,
      "outputs": [
        {
          "output_type": "display_data",
          "data": {
            "text/plain": [
              "  縣市代碼 店家照片                                               \n",
              "1 67       https://taiwan-askme.tw/upload/userfiles/shop/fm_01.JPG\n",
              "  店名_中                  店名_英                       店名_日            \n",
              "1 全家便利商店-善化正國店  FamilyMart (Shanhua Zhengguo) FamilyMart善化正?店\n",
              "  地址_中                      \n",
              "1 台南市善化區文昌里中正路160號\n",
              "  地址_英                                           \n",
              "1 No.160, Zhongzheng Rd., Shanhua Dist., Tainan City\n",
              "  地址_日                     緯度     經度     ⋯ 啟用 是否匯入資料\n",
              "1 台南市善化?文昌里中正路160? 23.12345 120.2943 ⋯ TRUE TRUE        \n",
              "  建立日期        最後更新日期   \n",
              "1 2015/7/21 11:38 2017/11/9 10:09\n",
              "  店長照片                                                 外連網址 小鎮漫遊\n",
              "1 https://taiwan-askme.tw/upload/userfiles/event/11-1c.jpg          0       \n",
              "  縣市名稱_中 縣市名稱_英 縣市名稱_日\n",
              "1 臺南市      Tainan City 台南市     "
            ],
            "text/latex": "A data.frame: 1 × 35\n\\begin{tabular}{r|lllllllllllllllllllll}\n  & 縣市代碼 & 店家照片 & 店名\\_中 & 店名\\_英 & 店名\\_日 & 地址\\_中 & 地址\\_英 & 地址\\_日 & 緯度 & 經度 & ⋯ & 啟用 & 是否匯入資料 & 建立日期 & 最後更新日期 & 店長照片 & 外連網址 & 小鎮漫遊 & 縣市名稱\\_中 & 縣市名稱\\_英 & 縣市名稱\\_日\\\\\n  & <int> & <chr> & <chr> & <chr> & <chr> & <chr> & <chr> & <chr> & <dbl> & <dbl> & ⋯ & <lgl> & <lgl> & <chr> & <chr> & <chr> & <chr> & <int> & <chr> & <chr> & <chr>\\\\\n\\hline\n\t1 & 67 & https://taiwan-askme.tw/upload/userfiles/shop/fm\\_01.JPG & 全家便利商店-善化正國店  & FamilyMart (Shanhua Zhengguo) & FamilyMart善化正?店 & 台南市善化區文昌里中正路160號 & No.160, Zhongzheng Rd., Shanhua Dist., Tainan City & 台南市善化?文昌里中正路160? & 23.12345 & 120.2943 & ⋯ & TRUE & TRUE & 2015/7/21 11:38 & 2017/11/9 10:09 & https://taiwan-askme.tw/upload/userfiles/event/11-1c.jpg &  & 0 & 臺南市 & Tainan City & 台南市\\\\\n\\end{tabular}\n",
            "text/markdown": "\nA data.frame: 1 × 35\n\n| <!--/--> | 縣市代碼 &lt;int&gt; | 店家照片 &lt;chr&gt; | 店名_中 &lt;chr&gt; | 店名_英 &lt;chr&gt; | 店名_日 &lt;chr&gt; | 地址_中 &lt;chr&gt; | 地址_英 &lt;chr&gt; | 地址_日 &lt;chr&gt; | 緯度 &lt;dbl&gt; | 經度 &lt;dbl&gt; | ⋯ ⋯ | 啟用 &lt;lgl&gt; | 是否匯入資料 &lt;lgl&gt; | 建立日期 &lt;chr&gt; | 最後更新日期 &lt;chr&gt; | 店長照片 &lt;chr&gt; | 外連網址 &lt;chr&gt; | 小鎮漫遊 &lt;int&gt; | 縣市名稱_中 &lt;chr&gt; | 縣市名稱_英 &lt;chr&gt; | 縣市名稱_日 &lt;chr&gt; |\n|---|---|---|---|---|---|---|---|---|---|---|---|---|---|---|---|---|---|---|---|---|---|\n| 1 | 67 | https://taiwan-askme.tw/upload/userfiles/shop/fm_01.JPG | 全家便利商店-善化正國店  | FamilyMart (Shanhua Zhengguo) | FamilyMart善化正?店 | 台南市善化區文昌里中正路160號 | No.160, Zhongzheng Rd., Shanhua Dist., Tainan City | 台南市善化?文昌里中正路160? | 23.12345 | 120.2943 | ⋯ | TRUE | TRUE | 2015/7/21 11:38 | 2017/11/9 10:09 | https://taiwan-askme.tw/upload/userfiles/event/11-1c.jpg | <!----> | 0 | 臺南市 | Tainan City | 台南市 |\n\n",
            "text/html": [
              "<table class=\"dataframe\">\n",
              "<caption>A data.frame: 1 × 35</caption>\n",
              "<thead>\n",
              "\t<tr><th></th><th scope=col>縣市代碼</th><th scope=col>店家照片</th><th scope=col>店名_中</th><th scope=col>店名_英</th><th scope=col>店名_日</th><th scope=col>地址_中</th><th scope=col>地址_英</th><th scope=col>地址_日</th><th scope=col>緯度</th><th scope=col>經度</th><th scope=col>⋯</th><th scope=col>啟用</th><th scope=col>是否匯入資料</th><th scope=col>建立日期</th><th scope=col>最後更新日期</th><th scope=col>店長照片</th><th scope=col>外連網址</th><th scope=col>小鎮漫遊</th><th scope=col>縣市名稱_中</th><th scope=col>縣市名稱_英</th><th scope=col>縣市名稱_日</th></tr>\n",
              "\t<tr><th></th><th scope=col>&lt;int&gt;</th><th scope=col>&lt;chr&gt;</th><th scope=col>&lt;chr&gt;</th><th scope=col>&lt;chr&gt;</th><th scope=col>&lt;chr&gt;</th><th scope=col>&lt;chr&gt;</th><th scope=col>&lt;chr&gt;</th><th scope=col>&lt;chr&gt;</th><th scope=col>&lt;dbl&gt;</th><th scope=col>&lt;dbl&gt;</th><th scope=col>⋯</th><th scope=col>&lt;lgl&gt;</th><th scope=col>&lt;lgl&gt;</th><th scope=col>&lt;chr&gt;</th><th scope=col>&lt;chr&gt;</th><th scope=col>&lt;chr&gt;</th><th scope=col>&lt;chr&gt;</th><th scope=col>&lt;int&gt;</th><th scope=col>&lt;chr&gt;</th><th scope=col>&lt;chr&gt;</th><th scope=col>&lt;chr&gt;</th></tr>\n",
              "</thead>\n",
              "<tbody>\n",
              "\t<tr><th scope=row>1</th><td>67</td><td>https://taiwan-askme.tw/upload/userfiles/shop/fm_01.JPG</td><td>全家便利商店-善化正國店 </td><td>FamilyMart (Shanhua Zhengguo)</td><td>FamilyMart善化正?店</td><td>台南市善化區文昌里中正路160號</td><td>No.160, Zhongzheng Rd., Shanhua Dist., Tainan City</td><td>台南市善化?文昌里中正路160?</td><td>23.12345</td><td>120.2943</td><td>⋯</td><td>TRUE</td><td>TRUE</td><td>2015/7/21 11:38</td><td>2017/11/9 10:09</td><td>https://taiwan-askme.tw/upload/userfiles/event/11-1c.jpg</td><td></td><td>0</td><td>臺南市</td><td>Tainan City</td><td>台南市</td></tr>\n",
              "</tbody>\n",
              "</table>\n"
            ]
          },
          "metadata": {
            "tags": []
          }
        }
      ]
    },
    {
      "cell_type": "code",
      "metadata": {
        "colab": {
          "base_uri": "https://localhost:8080/",
          "height": 247
        },
        "id": "NnTWu7eZVm09",
        "outputId": "819d62d2-b6ab-4c55-bec2-021e1c569e09"
      },
      "source": [
        "dataset[grepl(\"白河\",dataset$地址_日),]"
      ],
      "execution_count": 18,
      "outputs": [
        {
          "output_type": "display_data",
          "data": {
            "text/plain": [
              "  縣市代碼 店家照片                                                 店名_中 \n",
              "7 67       https://taiwan-askme.tw/upload/userfiles/shop/129_01.jpg 雲萊山莊\n",
              "  店名_英        店名_日  地址_中                \n",
              "7  Lai Yun Villa 雲萊山莊 臺南市白河區關嶺里129號\n",
              "  地址_英                                                        \n",
              "7 No.129, Guanling, Baihe Dist., Tainan City 732, Taiwan (R.O.C.)\n",
              "  地址_日               緯度     經度     ⋯ 啟用 是否匯入資料 建立日期       \n",
              "7 臺南市白河?關嶺里129? 23.31718 120.5106 ⋯ TRUE NA           2016/5/11 18:32\n",
              "  最後更新日期   店長照片 外連網址 小鎮漫遊 縣市名稱_中 縣市名稱_英 縣市名稱_日\n",
              "7 2020/7/1 16:00                   0        臺南市      Tainan City 台南市     "
            ],
            "text/latex": "A data.frame: 1 × 35\n\\begin{tabular}{r|lllllllllllllllllllll}\n  & 縣市代碼 & 店家照片 & 店名\\_中 & 店名\\_英 & 店名\\_日 & 地址\\_中 & 地址\\_英 & 地址\\_日 & 緯度 & 經度 & ⋯ & 啟用 & 是否匯入資料 & 建立日期 & 最後更新日期 & 店長照片 & 外連網址 & 小鎮漫遊 & 縣市名稱\\_中 & 縣市名稱\\_英 & 縣市名稱\\_日\\\\\n  & <int> & <chr> & <chr> & <chr> & <chr> & <chr> & <chr> & <chr> & <dbl> & <dbl> & ⋯ & <lgl> & <lgl> & <chr> & <chr> & <chr> & <chr> & <int> & <chr> & <chr> & <chr>\\\\\n\\hline\n\t7 & 67 & https://taiwan-askme.tw/upload/userfiles/shop/129\\_01.jpg & 雲萊山莊 &  Lai Yun Villa & 雲萊山莊 & 臺南市白河區關嶺里129號 & No.129, Guanling, Baihe Dist., Tainan City 732, Taiwan (R.O.C.) & 臺南市白河?關嶺里129? & 23.31718 & 120.5106 & ⋯ & TRUE & NA & 2016/5/11 18:32 & 2020/7/1 16:00 &  &  & 0 & 臺南市 & Tainan City & 台南市\\\\\n\\end{tabular}\n",
            "text/markdown": "\nA data.frame: 1 × 35\n\n| <!--/--> | 縣市代碼 &lt;int&gt; | 店家照片 &lt;chr&gt; | 店名_中 &lt;chr&gt; | 店名_英 &lt;chr&gt; | 店名_日 &lt;chr&gt; | 地址_中 &lt;chr&gt; | 地址_英 &lt;chr&gt; | 地址_日 &lt;chr&gt; | 緯度 &lt;dbl&gt; | 經度 &lt;dbl&gt; | ⋯ ⋯ | 啟用 &lt;lgl&gt; | 是否匯入資料 &lt;lgl&gt; | 建立日期 &lt;chr&gt; | 最後更新日期 &lt;chr&gt; | 店長照片 &lt;chr&gt; | 外連網址 &lt;chr&gt; | 小鎮漫遊 &lt;int&gt; | 縣市名稱_中 &lt;chr&gt; | 縣市名稱_英 &lt;chr&gt; | 縣市名稱_日 &lt;chr&gt; |\n|---|---|---|---|---|---|---|---|---|---|---|---|---|---|---|---|---|---|---|---|---|---|\n| 7 | 67 | https://taiwan-askme.tw/upload/userfiles/shop/129_01.jpg | 雲萊山莊 |  Lai Yun Villa | 雲萊山莊 | 臺南市白河區關嶺里129號 | No.129, Guanling, Baihe Dist., Tainan City 732, Taiwan (R.O.C.) | 臺南市白河?關嶺里129? | 23.31718 | 120.5106 | ⋯ | TRUE | NA | 2016/5/11 18:32 | 2020/7/1 16:00 | <!----> | <!----> | 0 | 臺南市 | Tainan City | 台南市 |\n\n",
            "text/html": [
              "<table class=\"dataframe\">\n",
              "<caption>A data.frame: 1 × 35</caption>\n",
              "<thead>\n",
              "\t<tr><th></th><th scope=col>縣市代碼</th><th scope=col>店家照片</th><th scope=col>店名_中</th><th scope=col>店名_英</th><th scope=col>店名_日</th><th scope=col>地址_中</th><th scope=col>地址_英</th><th scope=col>地址_日</th><th scope=col>緯度</th><th scope=col>經度</th><th scope=col>⋯</th><th scope=col>啟用</th><th scope=col>是否匯入資料</th><th scope=col>建立日期</th><th scope=col>最後更新日期</th><th scope=col>店長照片</th><th scope=col>外連網址</th><th scope=col>小鎮漫遊</th><th scope=col>縣市名稱_中</th><th scope=col>縣市名稱_英</th><th scope=col>縣市名稱_日</th></tr>\n",
              "\t<tr><th></th><th scope=col>&lt;int&gt;</th><th scope=col>&lt;chr&gt;</th><th scope=col>&lt;chr&gt;</th><th scope=col>&lt;chr&gt;</th><th scope=col>&lt;chr&gt;</th><th scope=col>&lt;chr&gt;</th><th scope=col>&lt;chr&gt;</th><th scope=col>&lt;chr&gt;</th><th scope=col>&lt;dbl&gt;</th><th scope=col>&lt;dbl&gt;</th><th scope=col>⋯</th><th scope=col>&lt;lgl&gt;</th><th scope=col>&lt;lgl&gt;</th><th scope=col>&lt;chr&gt;</th><th scope=col>&lt;chr&gt;</th><th scope=col>&lt;chr&gt;</th><th scope=col>&lt;chr&gt;</th><th scope=col>&lt;int&gt;</th><th scope=col>&lt;chr&gt;</th><th scope=col>&lt;chr&gt;</th><th scope=col>&lt;chr&gt;</th></tr>\n",
              "</thead>\n",
              "<tbody>\n",
              "\t<tr><th scope=row>7</th><td>67</td><td>https://taiwan-askme.tw/upload/userfiles/shop/129_01.jpg</td><td>雲萊山莊</td><td> Lai Yun Villa</td><td>雲萊山莊</td><td>臺南市白河區關嶺里129號</td><td>No.129, Guanling, Baihe Dist., Tainan City 732, Taiwan (R.O.C.)</td><td>臺南市白河?關嶺里129?</td><td>23.31718</td><td>120.5106</td><td>⋯</td><td>TRUE</td><td>NA</td><td>2016/5/11 18:32</td><td>2020/7/1 16:00</td><td></td><td></td><td>0</td><td>臺南市</td><td>Tainan City</td><td>台南市</td></tr>\n",
              "</tbody>\n",
              "</table>\n"
            ]
          },
          "metadata": {
            "tags": []
          }
        }
      ]
    },
    {
      "cell_type": "code",
      "metadata": {
        "colab": {
          "base_uri": "https://localhost:8080/",
          "height": 204
        },
        "id": "rMvitZKdWBFs",
        "outputId": "45a5a370-787c-4304-89bb-f9c862a18e0d"
      },
      "source": [
        "table(dataset$建立日期)"
      ],
      "execution_count": 19,
      "outputs": [
        {
          "output_type": "display_data",
          "data": {
            "text/plain": [
              "\n",
              " 2015/7/21 11:38  2015/7/21 11:40   2015/9/4 15:39  2016/5/10 18:07 \n",
              "               1                1                2                2 \n",
              " 2016/5/11 18:32  2016/7/28 15:31  2017/6/29 16:09  2017/6/29 16:16 \n",
              "               1                1                1                1 \n",
              " 2017/6/29 17:27  2017/7/12 23:39  2017/7/16 14:24   2017/8/5 10:13 \n",
              "               1                1                1                1 \n",
              " 2020/1/13 13:36 2020/10/17 14:51 2020/10/17 15:04  2020/3/11 16:32 \n",
              "               2                1                1                1 \n",
              " 2020/3/13 15:36  2020/3/13 15:43 \n",
              "               1                1 "
            ]
          },
          "metadata": {
            "tags": []
          }
        }
      ]
    },
    {
      "cell_type": "code",
      "metadata": {
        "colab": {
          "base_uri": "https://localhost:8080/"
        },
        "id": "7J_c079JWORs",
        "outputId": "6cefa2a2-4bce-4536-9507-8b0bd67b9621"
      },
      "source": [
        "install.packages(\"jsonlite\")"
      ],
      "execution_count": 20,
      "outputs": [
        {
          "output_type": "stream",
          "text": [
            "Installing package into ‘/usr/local/lib/R/site-library’\n",
            "(as ‘lib’ is unspecified)\n",
            "\n"
          ],
          "name": "stderr"
        }
      ]
    },
    {
      "cell_type": "code",
      "metadata": {
        "id": "MqRMMIz9Wa9t"
      },
      "source": [
        "library(\"jsonlite\")"
      ],
      "execution_count": 21,
      "outputs": []
    },
    {
      "cell_type": "code",
      "metadata": {
        "id": "1IPVbrAoW0zF"
      },
      "source": [
        "bigdata <- jsonlite::fromJSON(\"cdf3acccbd2b8e1f0e187e5e8fc0cd99_export.json\")"
      ],
      "execution_count": 26,
      "outputs": []
    },
    {
      "cell_type": "code",
      "metadata": {
        "colab": {
          "base_uri": "https://localhost:8080/"
        },
        "id": "OeiX-tltYZ7c",
        "outputId": "b433259c-cf9b-4f30-a65a-6d32bd6d08a1"
      },
      "source": [
        "str(bigdata)"
      ],
      "execution_count": 27,
      "outputs": [
        {
          "output_type": "stream",
          "text": [
            "'data.frame':\t194 obs. of  4 variables:\n",
            " $ country_ch: chr  \"美國\" \"印度\" \"巴西\" \"俄羅斯\" ...\n",
            " $ country_en: chr  \"United States\" \"India\" \"Brazil\" \"Russia\" ...\n",
            " $ cases     : chr  \"29,093,335\" \"11,210,799\" \"11,019,344\" \"4,322,776\" ...\n",
            " $ deaths    : chr  \"534,841\" \"157,756\" \"265,411\" \"89,094\" ...\n"
          ],
          "name": "stdout"
        }
      ]
    },
    {
      "cell_type": "code",
      "metadata": {
        "colab": {
          "base_uri": "https://localhost:8080/",
          "height": 34
        },
        "id": "FldoWuc1Yvx8",
        "outputId": "215b4cc6-746e-4b58-dd38-1ff01aac70ed"
      },
      "source": [
        "head(bigdata$country_ch, n=10)"
      ],
      "execution_count": 28,
      "outputs": [
        {
          "output_type": "display_data",
          "data": {
            "text/plain": [
              " [1] \"美國\"   \"印度\"   \"巴西\"   \"俄羅斯\" \"英國\"   \"法國\"   \"西班牙\" \"義大利\"\n",
              " [9] \"土耳其\" \"德國\"  "
            ],
            "text/latex": "\\begin{enumerate*}\n\\item '美國'\n\\item '印度'\n\\item '巴西'\n\\item '俄羅斯'\n\\item '英國'\n\\item '法國'\n\\item '西班牙'\n\\item '義大利'\n\\item '土耳其'\n\\item '德國'\n\\end{enumerate*}\n",
            "text/markdown": "1. '美國'\n2. '印度'\n3. '巴西'\n4. '俄羅斯'\n5. '英國'\n6. '法國'\n7. '西班牙'\n8. '義大利'\n9. '土耳其'\n10. '德國'\n\n\n",
            "text/html": [
              "<style>\n",
              ".list-inline {list-style: none; margin:0; padding: 0}\n",
              ".list-inline>li {display: inline-block}\n",
              ".list-inline>li:not(:last-child)::after {content: \"\\00b7\"; padding: 0 .5ex}\n",
              "</style>\n",
              "<ol class=list-inline><li>'美國'</li><li>'印度'</li><li>'巴西'</li><li>'俄羅斯'</li><li>'英國'</li><li>'法國'</li><li>'西班牙'</li><li>'義大利'</li><li>'土耳其'</li><li>'德國'</li></ol>\n"
            ]
          },
          "metadata": {
            "tags": []
          }
        }
      ]
    },
    {
      "cell_type": "code",
      "metadata": {
        "colab": {
          "base_uri": "https://localhost:8080/",
          "height": 34
        },
        "id": "Hmra6aUXZG08",
        "outputId": "26f45c86-d7bb-4e01-f414-0ac1cbde1fcb"
      },
      "source": [
        "tail(bigdata$deaths, n=15)"
      ],
      "execution_count": 29,
      "outputs": [
        {
          "output_type": "display_data",
          "data": {
            "text/plain": [
              " [1] \"21\" \"3\"  \"1\"  \"0\"  \"0\"  \"2\"  \"0\"  \"0\"  \"0\"  \"0\"  \"0\"  \"0\"  \"0\"  \"0\"  \"0\" "
            ],
            "text/latex": "\\begin{enumerate*}\n\\item '21'\n\\item '3'\n\\item '1'\n\\item '0'\n\\item '0'\n\\item '2'\n\\item '0'\n\\item '0'\n\\item '0'\n\\item '0'\n\\item '0'\n\\item '0'\n\\item '0'\n\\item '0'\n\\item '0'\n\\end{enumerate*}\n",
            "text/markdown": "1. '21'\n2. '3'\n3. '1'\n4. '0'\n5. '0'\n6. '2'\n7. '0'\n8. '0'\n9. '0'\n10. '0'\n11. '0'\n12. '0'\n13. '0'\n14. '0'\n15. '0'\n\n\n",
            "text/html": [
              "<style>\n",
              ".list-inline {list-style: none; margin:0; padding: 0}\n",
              ".list-inline>li {display: inline-block}\n",
              ".list-inline>li:not(:last-child)::after {content: \"\\00b7\"; padding: 0 .5ex}\n",
              "</style>\n",
              "<ol class=list-inline><li>'21'</li><li>'3'</li><li>'1'</li><li>'0'</li><li>'0'</li><li>'2'</li><li>'0'</li><li>'0'</li><li>'0'</li><li>'0'</li><li>'0'</li><li>'0'</li><li>'0'</li><li>'0'</li><li>'0'</li></ol>\n"
            ]
          },
          "metadata": {
            "tags": []
          }
        }
      ]
    },
    {
      "cell_type": "code",
      "metadata": {
        "colab": {
          "base_uri": "https://localhost:8080/",
          "height": 646
        },
        "id": "Hee2nHyoZOis",
        "outputId": "e7bca440-89de-4a6d-b0b1-d379ae20621b"
      },
      "source": [
        "table(bigdata$deaths)"
      ],
      "execution_count": 33,
      "outputs": [
        {
          "output_type": "display_data",
          "data": {
            "text/plain": [
              "\n",
              "      0       1   1,063   1,067   1,069   1,124   1,127   1,169   1,322   1,378 \n",
              "     12       2       1       1       1       1       1       1       1       1 \n",
              "  1,471   1,485   1,591   1,634   1,649   1,695   1,876   1,894   1,895   1,939 \n",
              "      1       1       1       1       1       1       1       1       1       1 \n",
              "  1,969      10  10,614  10,995     102  11,807     112  12,516 124,501      13 \n",
              "      1       2       1       1       1       1       1       1       1       1 \n",
              " 13,003  13,205  13,572     131     139     140     143     146      15  15,833 \n",
              "      1       1       1       1       1       1       1       1       1       1 \n",
              " 15,873     152     154 157,756      16  16,039  16,540     172     174     175 \n",
              "      1       1       1       1       1       1       1       1       1       1 \n",
              "    181 190,357       2   2,038   2,273   2,365   2,379   2,429   2,451   2,799 \n",
              "      1       1       2       1       1       1       1       1       1       1 \n",
              "  2,833  20,900     200     201     202      21  21,077  21,717  22,213  22,240 \n",
              "      1       1       1       1       1       2       1       1       1       1 \n",
              "    233     239     250      26     262 265,411     268  27,022      29  29,030 \n",
              "      1       1       1       2       1       1       1       1       2       1 \n",
              "      3   3,010   3,013   3,172   3,195   3,200   3,221   3,241   3,318   3,328 \n",
              "      2       1       1       1       1       1       1       1       1       1 \n",
              "  3,576   3,891     300     307     315      32     334     348      35     358 \n",
              "      1       1       1       1       1       1       2       1       1       1 \n",
              "    359      37  37,266   4,111   4,247   4,422   4,562   4,636   4,935      43 \n",
              "      1       1       1       1       1       1       1       1       1       1 \n",
              "    438     442  45,285     453  47,681     472      49     497   5,046   5,228 \n",
              "      1       1       1       1       1       1       1       1       1       1 \n",
              "  5,590   5,891   5,910  50,678     514  52,880 534,841      54     551   6,473 \n",
              "      1       1       1       1       1       1       1       1       1       1 \n",
              "  6,528   6,758  60,503  60,687     622      63     632      64     647     651 \n",
              "      1       1       1       1       1       3       1       1       1       2 \n",
              "    653     658     662     693       7   7,836  71,138  71,900     712      75 \n",
              "      1       1       1       1       1       1       1       1       1       1 \n",
              "     76     767      79       8   8,201   8,263   8,462   8,682   8,713      85 \n",
              "      1       1       1       1       1       1       1       1       1       2 \n",
              " 88,574  89,094   9,331      90     909      91     919      92      95      96 \n",
              "      1       1       1       1       1       1       1       1       1       1 \n",
              " 99,785 \n",
              "      1 "
            ]
          },
          "metadata": {
            "tags": []
          }
        }
      ]
    }
  ]
}